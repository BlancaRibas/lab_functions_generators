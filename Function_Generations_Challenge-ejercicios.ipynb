{
  "nbformat": 4,
  "nbformat_minor": 0,
  "metadata": {
    "kernelspec": {
      "display_name": "Python 3",
      "language": "python",
      "name": "python3"
    },
    "language_info": {
      "codemirror_mode": {
        "name": "ipython",
        "version": 3
      },
      "file_extension": ".py",
      "mimetype": "text/x-python",
      "name": "python",
      "nbconvert_exporter": "python",
      "pygments_lexer": "ipython3",
      "version": "3.8.5"
    },
    "colab": {
      "name": "Function Generations Challenge",
      "provenance": [],
      "collapsed_sections": []
    }
  },
  "cells": [
    {
      "cell_type": "markdown",
      "metadata": {
        "id": "gBImCUjmAlGK"
      },
      "source": [
        "# Before your start:\n",
        "- Read the README.md file\n",
        "- Comment as much as you can and use the resources in the README.md file\n",
        "- Happy learning!"
      ]
    },
    {
      "cell_type": "markdown",
      "metadata": {
        "id": "kbh3gOiQAlHG"
      },
      "source": [
        "# Challenge 1 - Functions. \n",
        "\n",
        "A function is a block of organized, reusable code that is used to perform a single, related action. Functions provide better modularity for your application and a high degree of code reusing. Create a function to find the summation of the number of every number from 1 to num."
      ]
    },
    {
      "cell_type": "code",
      "metadata": {
        "id": "aku1gROCAlHI"
      },
      "source": [
        "num=76"
      ],
      "execution_count": 3,
      "outputs": []
    },
    {
      "cell_type": "code",
      "metadata": {
        "colab": {
          "base_uri": "https://localhost:8080/"
        },
        "id": "Uewko3weAlHJ",
        "outputId": "5fd8ff3d-48c1-4dbf-d534-420ef7230175"
      },
      "source": [
        "def summation(num):\n",
        "    num=76\n",
        "    suma = 0\n",
        "    for i in range(1,num +1):\n",
        "        suma += i\n",
        "    return suma\n",
        "summation(76)"
      ],
      "execution_count": 5,
      "outputs": [
        {
          "output_type": "execute_result",
          "data": {
            "text/plain": [
              "2926"
            ]
          },
          "metadata": {
            "tags": []
          },
          "execution_count": 5
        }
      ]
    },
    {
      "cell_type": "code",
      "metadata": {
        "colab": {
          "base_uri": "https://localhost:8080/"
        },
        "id": "5GtHmVOiAlHK",
        "outputId": "c826f0c7-87c7-4c05-dbba-cbb4b8d275a9"
      },
      "source": [
        "print(summation)"
      ],
      "execution_count": 6,
      "outputs": [
        {
          "output_type": "stream",
          "text": [
            "<function summation at 0x7faa5d4bf5f0>\n"
          ],
          "name": "stdout"
        }
      ]
    },
    {
      "cell_type": "markdown",
      "metadata": {
        "id": "iFEvZJ-mAlHL"
      },
      "source": [
        "# Challenge 2 - Positional arguments, Args and Kwargs.\n",
        "\n",
        "The syntax *args and **kwargs in function definitions is used to pass a variable number of arguments to a function. The single asterisk form (*args) is used to pass a non-keyworded, variable-length argument list, and the double asterisk form is used to pass a keyworded, variable-length argument list. Create a function to find the summation of all elements of the array."
      ]
    },
    {
      "cell_type": "code",
      "metadata": {
        "id": "0ljWjWmPAlHL"
      },
      "source": [
        "array=[3, 8, 16]"
      ],
      "execution_count": 13,
      "outputs": []
    },
    {
      "cell_type": "code",
      "metadata": {
        "id": "z-NGm5kDAlHM"
      },
      "source": [
        "def summation2(*args):\n",
        "    return(sum(*args))"
      ],
      "execution_count": 18,
      "outputs": []
    },
    {
      "cell_type": "code",
      "metadata": {
        "colab": {
          "base_uri": "https://localhost:8080/"
        },
        "id": "ZDbCpj6fAlHN",
        "outputId": "ade6356f-cea2-447f-dea2-3eba99d263e9"
      },
      "source": [
        "summation2(array)"
      ],
      "execution_count": 19,
      "outputs": [
        {
          "output_type": "execute_result",
          "data": {
            "text/plain": [
              "27"
            ]
          },
          "metadata": {
            "tags": []
          },
          "execution_count": 19
        }
      ]
    },
    {
      "cell_type": "markdown",
      "metadata": {
        "id": "-ZbPFwe4AlHN"
      },
      "source": [
        "Now, do the same thing with positional arguments."
      ]
    },
    {
      "cell_type": "code",
      "metadata": {
        "id": "haXs7JmMAlHO"
      },
      "source": [
        " def summation3(a, b, c):\n",
        "    res=[]\n",
        "    suma=a+b\n",
        "    for i in range(c):\n",
        "        print(i)\n",
        "        res.append(c**i *suma) \n",
        "        return (res)\n"
      ],
      "execution_count": 39,
      "outputs": []
    },
    {
      "cell_type": "code",
      "metadata": {
        "colab": {
          "base_uri": "https://localhost:8080/"
        },
        "id": "g-fnRNiHAlHO",
        "outputId": "ef4a9a7c-1d13-444b-ee12-5eaf743c787d"
      },
      "source": [
        "print (summation3)"
      ],
      "execution_count": 34,
      "outputs": [
        {
          "output_type": "stream",
          "text": [
            "<function summation3 at 0x7faa5d3af5f0>\n"
          ],
          "name": "stdout"
        }
      ]
    },
    {
      "cell_type": "markdown",
      "metadata": {
        "id": "btnFo8kvAlHP"
      },
      "source": [
        "Given the next dictionary of M&Ms, create a function to sum all non red M&Ms."
      ]
    },
    {
      "cell_type": "code",
      "metadata": {
        "id": "Bk7mXg-2AlHP"
      },
      "source": [
        "dictionary={'red':3, 'blue':8, 'green':24, 'orange':12, 'purple':10}"
      ],
      "execution_count": 73,
      "outputs": []
    },
    {
      "cell_type": "code",
      "metadata": {
        "colab": {
          "base_uri": "https://localhost:8080/"
        },
        "id": "HE5fT8-PAlHQ",
        "outputId": "3a494c2a-9ca5-407c-f131-73ca5ed73ac9"
      },
      "source": [
        "dictionary['blue'] + dictionary ['green']+ dictionary ['orange']+ dictionary ['purple']- dictionary ['red']\n",
        "\n",
        "\n",
        "\n",
        "\n",
        "\n",
        "    "
      ],
      "execution_count": 76,
      "outputs": [
        {
          "output_type": "execute_result",
          "data": {
            "text/plain": [
              "51"
            ]
          },
          "metadata": {
            "tags": []
          },
          "execution_count": 76
        }
      ]
    },
    {
      "cell_type": "code",
      "metadata": {
        "colab": {
          "base_uri": "https://localhost:8080/"
        },
        "id": "Gv7W37nPAlHQ",
        "outputId": "01006785-5c08-4536-f237-1faba414cc3c"
      },
      "source": [
        "print (summation4)"
      ],
      "execution_count": 49,
      "outputs": [
        {
          "output_type": "stream",
          "text": [
            "<function summation4 at 0x7faa5d3145f0>\n"
          ],
          "name": "stdout"
        }
      ]
    },
    {
      "cell_type": "markdown",
      "metadata": {
        "id": "WjYcLhlOAlHQ"
      },
      "source": [
        "Below, create a function to sum all following elements."
      ]
    },
    {
      "cell_type": "code",
      "metadata": {
        "id": "_5HpJct3AlHR"
      },
      "source": [
        "a=4\n",
        "b=6\n",
        "c=15\n",
        "d=[48, 465, 23, 96]\n",
        "e={'A':16, 'B':32, 'C':64}"
      ],
      "execution_count": 63,
      "outputs": []
    },
    {
      "cell_type": "code",
      "metadata": {
        "colab": {
          "base_uri": "https://localhost:8080/"
        },
        "id": "bJ-dGfm5AlHR",
        "outputId": "21e00b03-91ec-43f1-e60d-05d7525da1e8"
      },
      "source": [
        "\n",
        "    # This function returns the sum of a,b,c,d and e\n",
        "    # You need to define the function input\n",
        "    # Your code here:\n",
        "summation5 = {'a':4, 'b':6, 'c':15}\n",
        "summationd = [48, 465, 23, 96]\n",
        "summatione = {'A':16, 'B':32, 'C':64}\n",
        "print(\"Dictionary: \", summation5)\n",
        "total = 0\n",
        "for i in summation5.values():\n",
        "    total = total + i\n",
        "print(\"\\nThe Total Sum of Values : \", total)\n",
        "print(\"Dictionary: \", summatione)\n",
        "total = 0\n",
        "for i in summatione.values():\n",
        "    total = total + i\n",
        "print(\"\\nThe Total Sum of Values : \", total)\n",
        "total = 0\n"
      ],
      "execution_count": 90,
      "outputs": [
        {
          "output_type": "stream",
          "text": [
            "Dictionary:  {'a': 4, 'b': 6, 'c': 15}\n",
            "\n",
            "The Total Sum of Values :  25\n",
            "Dictionary:  {'A': 16, 'B': 32, 'C': 64}\n",
            "\n",
            "The Total Sum of Values :  112\n"
          ],
          "name": "stdout"
        }
      ]
    },
    {
      "cell_type": "code",
      "metadata": {
        "id": "1n0BAbBzAlHS"
      },
      "source": [
        "# print summation5"
      ],
      "execution_count": null,
      "outputs": []
    },
    {
      "cell_type": "markdown",
      "metadata": {
        "id": "GCwCWDeAAlHS"
      },
      "source": [
        "# Challenge 3 - Iterators, Generators and `yield`. \n",
        "\n",
        "In iterator in Python is an object that represents a stream of data. However, iterators contain a countable number of values. We traverse through the iterator and return one value at a time. All iterators support a `next` function that allows us to traverse through the iterator. We can create an iterator using the `iter` function that comes with the base package of Python. Below is an example of an iterator."
      ]
    },
    {
      "cell_type": "code",
      "metadata": {
        "colab": {
          "base_uri": "https://localhost:8080/"
        },
        "id": "JtZiEGBfAlHT",
        "outputId": "51d20447-2ef0-41f4-c6eb-fa15f2679d49"
      },
      "source": [
        "# We first define our iterator:\n",
        "\n",
        "iterator = iter([1,2,3])\n",
        "\n",
        "# We can now iterate through the object using the next function\n",
        "\n",
        "print(next(iterator))"
      ],
      "execution_count": 1,
      "outputs": [
        {
          "output_type": "stream",
          "text": [
            "1\n"
          ],
          "name": "stdout"
        }
      ]
    },
    {
      "cell_type": "code",
      "metadata": {
        "colab": {
          "base_uri": "https://localhost:8080/"
        },
        "id": "C5UNfMwYAlHT",
        "outputId": "abd3b44c-8587-40eb-a5c2-176778ce9329"
      },
      "source": [
        "# We continue to iterate through the iterator.\n",
        "\n",
        "print(next(iterator))"
      ],
      "execution_count": 2,
      "outputs": [
        {
          "output_type": "stream",
          "text": [
            "2\n"
          ],
          "name": "stdout"
        }
      ]
    },
    {
      "cell_type": "code",
      "metadata": {
        "colab": {
          "base_uri": "https://localhost:8080/"
        },
        "id": "td-z-jLgAlHU",
        "outputId": "7c6fc7db-4409-45e0-8cd5-2900db94efd5"
      },
      "source": [
        "print(next(iterator))"
      ],
      "execution_count": 3,
      "outputs": [
        {
          "output_type": "stream",
          "text": [
            "3\n"
          ],
          "name": "stdout"
        }
      ]
    },
    {
      "cell_type": "code",
      "metadata": {
        "colab": {
          "base_uri": "https://localhost:8080/",
          "height": 201
        },
        "id": "At4MgyqpAlHU",
        "outputId": "373278ab-ec47-42f1-ed4c-305adf065470"
      },
      "source": [
        "# After we have iterated through all elements, we will get a StopIteration Error\n",
        "\n",
        "print(next(iterator))"
      ],
      "execution_count": 4,
      "outputs": [
        {
          "output_type": "error",
          "ename": "StopIteration",
          "evalue": "ignored",
          "traceback": [
            "\u001b[0;31m---------------------------------------------------------------------------\u001b[0m",
            "\u001b[0;31mStopIteration\u001b[0m                             Traceback (most recent call last)",
            "\u001b[0;32m<ipython-input-4-91070dc82d50>\u001b[0m in \u001b[0;36m<module>\u001b[0;34m()\u001b[0m\n\u001b[1;32m      1\u001b[0m \u001b[0;31m# After we have iterated through all elements, we will get a StopIteration Error\u001b[0m\u001b[0;34m\u001b[0m\u001b[0;34m\u001b[0m\u001b[0;34m\u001b[0m\u001b[0m\n\u001b[1;32m      2\u001b[0m \u001b[0;34m\u001b[0m\u001b[0m\n\u001b[0;32m----> 3\u001b[0;31m \u001b[0mprint\u001b[0m\u001b[0;34m(\u001b[0m\u001b[0mnext\u001b[0m\u001b[0;34m(\u001b[0m\u001b[0miterator\u001b[0m\u001b[0;34m)\u001b[0m\u001b[0;34m)\u001b[0m\u001b[0;34m\u001b[0m\u001b[0;34m\u001b[0m\u001b[0m\n\u001b[0m",
            "\u001b[0;31mStopIteration\u001b[0m: "
          ]
        }
      ]
    },
    {
      "cell_type": "code",
      "metadata": {
        "colab": {
          "base_uri": "https://localhost:8080/"
        },
        "id": "AvvU2BmXAlHU",
        "outputId": "60f7f3ed-1e53-4d9c-d169-871c27bad162"
      },
      "source": [
        "# We can also iterate through an iterator using a for loop like this:\n",
        "# Note: we cannot go back directly in an iterator once we have traversed through the elements. \n",
        "# This is why we are redefining the iterator below\n",
        "\n",
        "iterator = iter([1,2,3])\n",
        "\n",
        "for i in iterator:\n",
        "    print(i)"
      ],
      "execution_count": 8,
      "outputs": [
        {
          "output_type": "stream",
          "text": [
            "1\n",
            "2\n",
            "3\n"
          ],
          "name": "stdout"
        }
      ]
    },
    {
      "cell_type": "markdown",
      "metadata": {
        "id": "z7QqHu1zAlHV"
      },
      "source": [
        "In the cell below, write a function that takes an iterator and returns the first element in the iterator and returns the first element in the iterator that is divisible by 2. Assume that all iterators contain only numeric data. If we have not found a single element that is divisible by 2, return zero."
      ]
    },
    {
      "cell_type": "code",
      "metadata": {
        "colab": {
          "base_uri": "https://localhost:8080/",
          "height": 131
        },
        "id": "E7fPtKyQAlHV",
        "outputId": "ab92b10a-0421-45e0-bcac-c0a76ea60db4"
      },
      "source": [
        "def divisible2(iterator):\n",
        "  iterator=iter([1,2,3])\n",
        "\n",
        "    # This function takes an iterable and returns the first element that is divisible by 2 and zero otherwise\n",
        "    # Input: Iterable\n",
        "    # Output: Integer\n",
        "    \n",
        "    # Sample Input: iter([1,2,3])\n",
        "    # Sample Output: 2\n",
        "    \n",
        "    # Your code here:\n",
        "\n",
        "    def __init__(divisible2):\n",
        "        divisible2 =iter([1,2,3])\n",
        " \n",
        "    def __iter__(divisible2):\n",
        "        divisible2 = 3\n",
        "        return divisible2\n",
        "    def __next__(divisible2):\n",
        "        divisible2 = 0\n",
        "        if x = x/2%:\n",
        "          return x\n",
        "          if not return 0\n",
        "for i in iterator(3):\n",
        "    print(i)"
      ],
      "execution_count": 18,
      "outputs": [
        {
          "output_type": "error",
          "ename": "IndentationError",
          "evalue": "ignored",
          "traceback": [
            "\u001b[0;36m  File \u001b[0;32m\"<ipython-input-18-3f8caf5a0f2f>\"\u001b[0;36m, line \u001b[0;32m13\u001b[0m\n\u001b[0;31m    def __init__(divisible2):\u001b[0m\n\u001b[0m    ^\u001b[0m\n\u001b[0;31mIndentationError\u001b[0m\u001b[0;31m:\u001b[0m unexpected indent\n"
          ]
        }
      ]
    },
    {
      "cell_type": "code",
      "metadata": {
        "id": "Vj6yfnyjAlHW"
      },
      "source": [
        "# print divisible2"
      ],
      "execution_count": null,
      "outputs": []
    },
    {
      "cell_type": "markdown",
      "metadata": {
        "id": "iqrES9HrAlHW"
      },
      "source": [
        "### Generators\n",
        "\n",
        "It is quite difficult to create your own iterator since you would have to implement a `next` function. Generators are functions that enable us to create iterators. The difference between a function and a generator is that instead of using `return`, we use `yield`. For example, below we have a function that returns an iterator containing the numbers 0 through n:"
      ]
    },
    {
      "cell_type": "code",
      "metadata": {
        "id": "84GNi56TAlHX"
      },
      "source": [
        "def firstn(n):\n",
        "     number = 0\n",
        "     while number < n:\n",
        "         yield number\n",
        "         number = number + 1"
      ],
      "execution_count": 20,
      "outputs": []
    },
    {
      "cell_type": "markdown",
      "metadata": {
        "id": "S8nUXxvYAlHX"
      },
      "source": [
        "If we pass 5 to the function, we will see that we have a iterator containing the numbers 0 through 4."
      ]
    },
    {
      "cell_type": "code",
      "metadata": {
        "colab": {
          "base_uri": "https://localhost:8080/"
        },
        "id": "yM0y_N1WAlHX",
        "outputId": "4e0673b2-fba9-462d-cda8-180f1d956fb2"
      },
      "source": [
        "iterator = firstn(5)\n",
        "\n",
        "for i in iterator:\n",
        "    print(i)"
      ],
      "execution_count": 21,
      "outputs": [
        {
          "output_type": "stream",
          "text": [
            "0\n",
            "1\n",
            "2\n",
            "3\n",
            "4\n"
          ],
          "name": "stdout"
        }
      ]
    },
    {
      "cell_type": "markdown",
      "metadata": {
        "id": "zIv6t3i_AlHY"
      },
      "source": [
        "In the cell below, create a generator that takes a number and returns an iterator containing all even numbers between 0 and the number you passed to the generator."
      ]
    },
    {
      "cell_type": "code",
      "metadata": {
        "colab": {
          "base_uri": "https://localhost:8080/",
          "height": 131
        },
        "id": "2dQ9uHkGAlHY",
        "outputId": "16c77bcb-82f1-44da-94d9-65a545d8995b"
      },
      "source": [
        "def even_iterator(n):\n",
        "    # This function produces an iterator containing all even numbers between 0 and n\n",
        "    # Input: integer\n",
        "    # Output: iterator\n",
        "    \n",
        "    # Sample Input: 5\n",
        "    # Sample Output: iter([0, 2, 4])"
      ],
      "execution_count": 22,
      "outputs": [
        {
          "output_type": "error",
          "ename": "SyntaxError",
          "evalue": "ignored",
          "traceback": [
            "\u001b[0;36m  File \u001b[0;32m\"<ipython-input-22-bb6f5892496b>\"\u001b[0;36m, line \u001b[0;32m7\u001b[0m\n\u001b[0;31m    # Sample Output: iter([0, 2, 4])\u001b[0m\n\u001b[0m                                    ^\u001b[0m\n\u001b[0;31mSyntaxError\u001b[0m\u001b[0;31m:\u001b[0m unexpected EOF while parsing\n"
          ]
        }
      ]
    },
    {
      "cell_type": "code",
      "metadata": {
        "id": "mqhQaFdCAlHZ"
      },
      "source": [
        "# print even_iterator"
      ],
      "execution_count": null,
      "outputs": []
    },
    {
      "cell_type": "code",
      "metadata": {
        "colab": {
          "base_uri": "https://localhost:8080/"
        },
        "id": "1uZpE_c_AlHZ",
        "outputId": "653d5179-3dc1-419a-d2c9-6d1f41efa463"
      },
      "source": [
        "def my_gen():\n",
        "    n = 1\n",
        "    print('first')\n",
        "    yield n\n",
        "    n += 1\n",
        "    print('second')\n",
        "    yield n\n",
        "    n += 1\n",
        "    print('last')\n",
        "    yield n\n",
        "for item in my_gen():\n",
        "    print(item)"
      ],
      "execution_count": 29,
      "outputs": [
        {
          "output_type": "stream",
          "text": [
            "first\n",
            "1\n",
            "second\n",
            "2\n",
            "last\n",
            "3\n"
          ],
          "name": "stdout"
        }
      ]
    }
  ]
}